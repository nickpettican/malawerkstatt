{
 "cells": [
  {
   "cell_type": "markdown",
   "metadata": {},
   "source": [
    "# GET all \"gurupearls and stupas\" products"
   ]
  },
  {
   "cell_type": "code",
   "execution_count": 1,
   "metadata": {},
   "outputs": [],
   "source": [
    "from lxml.etree import HTML\n",
    "from re import search, M, I\n",
    "from requests import get, Session\n",
    "from itertools import chain\n",
    "from json import dump, load"
   ]
  },
  {
   "cell_type": "code",
   "execution_count": 2,
   "metadata": {},
   "outputs": [],
   "source": [
    "user_agent = 'Mozilla/5.0 (Windows NT 10.0; WOW64) AppleWebKit/537.36 (KHTML, like Gecko) Chrome/55.0.2883.87 Safari/537.36'\n",
    "session = Session()\n",
    "session.headers.update({\n",
    "    'Accept-Encoding': 'gzip, deflate',\n",
    "    'Accept-Language': 'en-US;q=0.6,en;q=0.4',\n",
    "    'Connection': 'keep-alive',\n",
    "    'Content-Length': '0',\n",
    "    'Host': 'www.malawerkstatt.de',\n",
    "    'Origin': 'https://www.malawerkstatt.de/',\n",
    "    'Referer': 'https://www.malawerkstatt.de/',\n",
    "    'User-Agent': user_agent\n",
    "})"
   ]
  },
  {
   "cell_type": "code",
   "execution_count": 3,
   "metadata": {},
   "outputs": [],
   "source": [
    "base_url = 'https://www.malawerkstatt.de'\n",
    "page_url = 'https://www.malawerkstatt.de/epages/61255242.sf/de_DE/'\n",
    "url = 'https://www.malawerkstatt.de/epages/61255242.sf/de_DE/?ViewAction=View&ObjectID=53284986&PageSize=60&Page=%s'"
   ]
  },
  {
   "cell_type": "code",
   "execution_count": 4,
   "metadata": {},
   "outputs": [],
   "source": [
    "number_of_pages = 3\n",
    "pages = [session.get(url % n).text for n in range(1,number_of_pages+1)]\n",
    "trees = [HTML(page) for page in pages]"
   ]
  },
  {
   "cell_type": "code",
   "execution_count": 5,
   "metadata": {},
   "outputs": [],
   "source": [
    "size_re = r'\\d*(\\.\\d|\\,\\d|).?mm'"
   ]
  },
  {
   "cell_type": "code",
   "execution_count": 6,
   "metadata": {},
   "outputs": [],
   "source": [
    "def get_size_from_text(text):\n",
    "    ''' returns size as string from string '''\n",
    "    try:\n",
    "        return search(size_re, text, M|I).group().strip()\n",
    "    except Exception as e:\n",
    "        print 'Error in get_size_from_text: %s' % e\n",
    "        return ''\n",
    "    \n",
    "def get_text_from_tree(tree, x_path):\n",
    "    ''' returns description as string '''\n",
    "    try:\n",
    "        description_fragments = list(tree.xpath(x_path).pop().itertext())\n",
    "        return ' '.join([fragment.strip() \n",
    "                         for fragment in description_fragments if fragment.strip()])\n",
    "    except Exception as e:\n",
    "        print 'Error in get_text_from_tree: %s' % e\n",
    "        return ''\n",
    "    \n",
    "def text_to_float(text_with_num):\n",
    "    ''' returns float from text with number in it '''\n",
    "    if text_with_num:\n",
    "        return float(search(r'\\d+(.?\\d+|)', text_with_num, M|I).group().replace(',','.'))\n",
    "    else:\n",
    "        return None\n",
    "\n",
    "def get_product_details(tree):\n",
    "    ''' takes product tree and returns dict with details '''\n",
    "    title = tree.xpath('.//h3').pop()\n",
    "    title_text = get_text_from_tree(tree=title, x_path='.//a')\n",
    "    size = get_size_from_text(title_text)\n",
    "    price = get_text_from_tree(tree, x_path='.//span[@class=\"Price\"]')\n",
    "    return dict(\n",
    "        img_url=base_url + tree.xpath('.//img[@class=\"ProductSmallImage\"]/@src').pop(),\n",
    "        title=title_text,\n",
    "        description=get_text_from_tree(tree, x_path='.//div[@class=\"Description\"]'),\n",
    "        url=page_url + title.xpath('.//a/@href').pop(),\n",
    "        size_num= text_to_float(size),\n",
    "        price_num= text_to_float(price),\n",
    "        size=size,\n",
    "        price=price\n",
    "    )\n",
    "\n",
    "def get_products_from_page(tree):\n",
    "    ''' returns list with all product entries as trees '''\n",
    "    products_wrapper = tree.xpath('.//div[@id=\"CategoryProducts\"]').pop()\n",
    "    return products_wrapper.xpath('.//div[@class=\"InfoArea\"]')"
   ]
  },
  {
   "cell_type": "code",
   "execution_count": 7,
   "metadata": {},
   "outputs": [
    {
     "name": "stdout",
     "output_type": "stream",
     "text": [
      "Error in get_size_from_text: 'NoneType' object has no attribute 'group'\n",
      "Error in get_size_from_text: 'NoneType' object has no attribute 'group'\n",
      "Error in get_size_from_text: 'NoneType' object has no attribute 'group'\n",
      "Error in get_size_from_text: 'NoneType' object has no attribute 'group'\n",
      "Error in get_size_from_text: 'NoneType' object has no attribute 'group'\n",
      "Error in get_size_from_text: 'NoneType' object has no attribute 'group'\n",
      "Error in get_size_from_text: 'NoneType' object has no attribute 'group'\n",
      "Error in get_size_from_text: 'NoneType' object has no attribute 'group'\n",
      "Error in get_size_from_text: 'NoneType' object has no attribute 'group'\n",
      "Error in get_size_from_text: 'NoneType' object has no attribute 'group'\n"
     ]
    }
   ],
   "source": [
    "products_by_page = [\n",
    "    [get_product_details(product) for product in get_products_from_page(page)] \n",
    "        for page in trees]"
   ]
  },
  {
   "cell_type": "code",
   "execution_count": 8,
   "metadata": {},
   "outputs": [],
   "source": [
    "all_products = list(chain.from_iterable(products_by_page))"
   ]
  },
  {
   "cell_type": "markdown",
   "metadata": {},
   "source": [
    "## Save to file"
   ]
  },
  {
   "cell_type": "code",
   "execution_count": 9,
   "metadata": {},
   "outputs": [],
   "source": [
    "dump(all_products, open('guruperlen_stupa_products.min.json','w'), encoding='utf-8')"
   ]
  },
  {
   "cell_type": "code",
   "execution_count": null,
   "metadata": {},
   "outputs": [],
   "source": []
  }
 ],
 "metadata": {
  "kernelspec": {
   "display_name": "Python 2",
   "language": "python",
   "name": "python2"
  },
  "language_info": {
   "codemirror_mode": {
    "name": "ipython",
    "version": 2
   },
   "file_extension": ".py",
   "mimetype": "text/x-python",
   "name": "python",
   "nbconvert_exporter": "python",
   "pygments_lexer": "ipython2",
   "version": "2.7.15"
  }
 },
 "nbformat": 4,
 "nbformat_minor": 2
}
